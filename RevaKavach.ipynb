{
  "nbformat": 4,
  "nbformat_minor": 0,
  "metadata": {
    "colab": {
      "provenance": [],
      "authorship_tag": "ABX9TyORfR0GAgcQ4ag8MTqBNzp2",
      "include_colab_link": true
    },
    "kernelspec": {
      "name": "python3",
      "display_name": "Python 3"
    },
    "language_info": {
      "name": "python"
    }
  },
  "cells": [
    {
      "cell_type": "markdown",
      "metadata": {
        "id": "view-in-github",
        "colab_type": "text"
      },
      "source": [
        "<a href=\"https://colab.research.google.com/github/sud0x00/SinisterMinds/blob/wip/RevaKavach.ipynb\" target=\"_parent\"><img src=\"https://colab.research.google.com/assets/colab-badge.svg\" alt=\"Open In Colab\"/></a>"
      ]
    },
    {
      "cell_type": "code",
      "execution_count": null,
      "metadata": {
        "id": "I_LbKCrn4a7u"
      },
      "outputs": [],
      "source": [
        "!pip install transformers torch\n"
      ]
    },
    {
      "cell_type": "code",
      "source": [
        "from transformers import AutoTokenizer, AutoModelForSequenceClassification\n",
        "\n",
        "def is_obscene(text):\n",
        "    # Load the Toxic BERT model\n",
        "    model_name = \"Hate-speech-CNERG/dehatebert-mono-english\"\n",
        "    tokenizer = AutoTokenizer.from_pretrained(model_name)\n",
        "    model = AutoModelForSequenceClassification.from_pretrained(model_name)\n",
        "\n",
        "    # Tokenize the input string using the tokenizer\n",
        "    inputs = tokenizer.encode_plus(text, add_special_tokens=True, return_tensors=\"pt\")\n",
        "\n",
        "    # Run the input through the model to get a prediction\n",
        "    outputs = model(inputs[\"input_ids\"], token_type_ids=None, attention_mask=inputs[\"attention_mask\"])\n",
        "    predictions = outputs.logits.softmax(dim=-1)\n",
        "\n",
        "    # Check the output of the model to see if the string is obscene or not\n",
        "    if predictions[0][1] > 0.5:\n",
        "        return True\n",
        "    else:\n",
        "        return False\n"
      ],
      "metadata": {
        "id": "cZrcCmVg4lft"
      },
      "execution_count": null,
      "outputs": []
    },
    {
      "cell_type": "code",
      "source": [
        "text = \"i love dick cavett\"\n",
        "if is_obscene(text):\n",
        "    print(\"The string is obscene.\")\n",
        "else:\n",
        "    print(\"The string is not obscene.\")\n"
      ],
      "metadata": {
        "colab": {
          "base_uri": "https://localhost:8080/"
        },
        "id": "R81eV5YQ40Fk",
        "outputId": "7faee671-27ee-4356-fc8e-c0a03dfd1fc4"
      },
      "execution_count": null,
      "outputs": [
        {
          "output_type": "stream",
          "name": "stdout",
          "text": [
            "The string is not obscene.\n"
          ]
        }
      ]
    },
    {
      "cell_type": "code",
      "source": [],
      "metadata": {
        "id": "B42iViYO43nu"
      },
      "execution_count": null,
      "outputs": []
    }
  ]
}